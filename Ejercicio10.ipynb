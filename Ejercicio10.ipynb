{
 "cells": [
  {
   "cell_type": "markdown",
   "metadata": {},
   "source": [
    "# **Hernández Rodríguez Jorge Eduardo - 3CV1 - Ejercicio de Laboratorio 10**"
   ]
  },
  {
   "cell_type": "code",
   "execution_count": 1,
   "metadata": {},
   "outputs": [],
   "source": [
    "from abc import ABC, abstractmethod\n",
    "import math\n",
    "class Figure(ABC):\n",
    "    def __init__(self, color):\n",
    "        self.color=color\n",
    "    @abstractmethod\n",
    "    def get_color(self):\n",
    "        pass\n",
    "    @abstractmethod\n",
    "    def perimeter(self):\n",
    "        pass\n",
    "    @abstractmethod\n",
    "    def area(self):\n",
    "        pass"
   ]
  },
  {
   "cell_type": "code",
   "execution_count": 2,
   "metadata": {},
   "outputs": [],
   "source": [
    "class Triangle(Figure):\n",
    "    def __init__(self, color, base, altura, lado1, lado2):\n",
    "        super().__init__(color)\n",
    "        self.base=base\n",
    "        self.altura=altura\n",
    "        self.lado1=lado1\n",
    "        self.lado2=lado2\n",
    "    def area(self):\n",
    "        return (self.base*self.altura)/2\n",
    "    def perimeter(self):\n",
    "        return self.base+self.lado1+self.lado2\n",
    "    def get_color(self):\n",
    "        return self.color"
   ]
  },
  {
   "cell_type": "code",
   "execution_count": 3,
   "metadata": {},
   "outputs": [],
   "source": [
    "class Circle(Figure):\n",
    "    def __init__(self, color, radio):\n",
    "        super().__init__(color)\n",
    "        self.radio=radio\n",
    "    def area(self):\n",
    "        return math.pi*self.radio*self.radio\n",
    "    def perimeter(self):\n",
    "        return 2*math.pi*self.radio\n",
    "    def get_color(self):\n",
    "        return self.color"
   ]
  },
  {
   "cell_type": "code",
   "execution_count": 4,
   "metadata": {},
   "outputs": [],
   "source": [
    "class Rectangle(Figure):\n",
    "    def __init__(self, color, base, altura):\n",
    "        super().__init__(color)\n",
    "        self.base=base\n",
    "        self.altura=altura\n",
    "    def area(self):\n",
    "        return self.base*self.altura\n",
    "    def perimeter(self):\n",
    "        return 2 * (self.base+self.altura)\n",
    "    def get_color(self):\n",
    "        return self.color"
   ]
  },
  {
   "cell_type": "code",
   "execution_count": 5,
   "metadata": {},
   "outputs": [],
   "source": [
    "class Hexagon(Figure):\n",
    "    def __init__(self, color, lado, apotema):\n",
    "        super().__init__(color)\n",
    "        self.lado=lado\n",
    "        self.apotema=apotema\n",
    "    def area(self):\n",
    "        return (self.perimeter()*self.apotema)/2\n",
    "    def perimeter(self):\n",
    "        return self.lado*6\n",
    "    def get_color(self):\n",
    "        return self.color"
   ]
  },
  {
   "cell_type": "code",
   "execution_count": 6,
   "metadata": {},
   "outputs": [
    {
     "name": "stdout",
     "output_type": "stream",
     "text": [
      "Color: Rojo, Perimetro: 13, Area: 4.5\n",
      "Color: Verde, Perimetro: 18.84955592153876, Area: 28.274333882308138\n",
      "Color: Azul, Perimetro: 20, Area: 24\n",
      "Color: Amarillo, Perimetro: 60, Area: 150.0\n"
     ]
    }
   ],
   "source": [
    "if __name__==\"__main__\":\n",
    "    figures=[\n",
    "        Triangle(\"Rojo\", 6, 4, 5, 5),\n",
    "        Circle(\"Verde\", 3),\n",
    "        Rectangle(\"Azul\", 4, 6),\n",
    "        Hexagon(\"Amarillo\", 10, 5)\n",
    "    ]\n",
    "    for figure in figures:\n",
    "        print(f\"Color: {figure.get_color()}, Perimetro: {figure.perimeter()}, Area: {figure.area()}\")"
   ]
  }
 ],
 "metadata": {
  "kernelspec": {
   "display_name": "Python 3",
   "language": "python",
   "name": "python3"
  },
  "language_info": {
   "codemirror_mode": {
    "name": "ipython",
    "version": 3
   },
   "file_extension": ".py",
   "mimetype": "text/x-python",
   "name": "python",
   "nbconvert_exporter": "python",
   "pygments_lexer": "ipython3",
   "version": "3.11.9"
  }
 },
 "nbformat": 4,
 "nbformat_minor": 2
}
