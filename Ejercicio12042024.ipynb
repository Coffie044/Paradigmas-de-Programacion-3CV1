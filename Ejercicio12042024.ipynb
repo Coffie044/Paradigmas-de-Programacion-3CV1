{
 "cells": [
  {
   "cell_type": "markdown",
   "metadata": {},
   "source": [
    "# **Hernández Rodríguez Jorge Eduardo - 3CV1 - Ejercicio 12/04/2024**"
   ]
  },
  {
   "cell_type": "code",
   "execution_count": 26,
   "metadata": {},
   "outputs": [],
   "source": [
    "class Persona:\n",
    "    def __init__(self, nombre, apellido, genero, nacionalidad, educacion, edad, telefono):\n",
    "        self.nombre = nombre\n",
    "        self.apellido = apellido\n",
    "        self.genero = genero\n",
    "        self.nacionalidad = nacionalidad\n",
    "        self.educacion = educacion\n",
    "        self.edad = edad\n",
    "        self.telefono = telefono\n",
    "\n",
    "    def get_nombre(self):\n",
    "        return self.nombre\n",
    "\n",
    "    def get_apellido(self):\n",
    "        return self.apellido\n",
    "\n",
    "    def get_genero(self):\n",
    "        return self.genero\n",
    "\n",
    "    def get_nacionalidad(self):\n",
    "        return self.nacionalidad\n",
    "\n",
    "    def get_educacion(self):\n",
    "        return self.educacion\n",
    "\n",
    "    def get_edad(self):\n",
    "        return self.edad\n",
    "\n",
    "    def get_telefono(self):\n",
    "        return self.telefono"
   ]
  },
  {
   "cell_type": "code",
   "execution_count": 27,
   "metadata": {},
   "outputs": [
    {
     "name": "stdout",
     "output_type": "stream",
     "text": [
      "Nombre: Juan\n",
      "Apellido: Perez\n",
      "Genero: Masculino\n",
      "Nacionalidad: Mexicana\n",
      "Educacion: Maestria\n",
      "Edad: 25\n",
      "Telefono: 12345678\n"
     ]
    }
   ],
   "source": [
    "class Ejercicio12042024:\n",
    "    p1 = Persona(\"Juan\", \"Perez\", \"Masculino\", \"Mexicana\", \"Maestria\", 25, 12345678)\n",
    "    print(\"Nombre:\", p1.get_nombre())\n",
    "    print(\"Apellido:\", p1.get_apellido())\n",
    "    print(\"Genero:\", p1.get_genero())\n",
    "    print(\"Nacionalidad:\", p1.get_nacionalidad())\n",
    "    print(\"Educacion:\", p1.get_educacion())\n",
    "    print(\"Edad:\", p1.get_edad())\n",
    "    print(\"Telefono:\", p1.get_telefono())"
   ]
  }
 ],
 "metadata": {
  "kernelspec": {
   "display_name": "Python 3",
   "language": "python",
   "name": "python3"
  },
  "language_info": {
   "codemirror_mode": {
    "name": "ipython",
    "version": 3
   },
   "file_extension": ".py",
   "mimetype": "text/x-python",
   "name": "python",
   "nbconvert_exporter": "python",
   "pygments_lexer": "ipython3",
   "version": "3.11.9"
  }
 },
 "nbformat": 4,
 "nbformat_minor": 2
}
