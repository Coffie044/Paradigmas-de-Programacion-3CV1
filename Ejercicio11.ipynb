{
 "cells": [
  {
   "cell_type": "markdown",
   "metadata": {},
   "source": [
    "# **Hernández Rodríguez Jorge Eduardo - 3CV1 - Ejercicio de Laboratorio 11**"
   ]
  },
  {
   "cell_type": "code",
   "execution_count": 2,
   "metadata": {},
   "outputs": [],
   "source": [
    "from abc import ABC, abstractmethod\n",
    "class Figure(ABC):\n",
    "    @abstractmethod\n",
    "    def get_color(self):\n",
    "        pass\n",
    "    @abstractmethod\n",
    "    def perimeter(self):\n",
    "        pass\n",
    "    @abstractmethod\n",
    "    def area(self):\n",
    "        pass"
   ]
  },
  {
   "cell_type": "code",
   "execution_count": 3,
   "metadata": {},
   "outputs": [],
   "source": [
    "class Triangle(Figure):\n",
    "    def __init__(self, base, altura, lado1, lado2, color):\n",
    "        self.base=base\n",
    "        self.altura=altura\n",
    "        self.lado1=lado1\n",
    "        self.lado2=lado2\n",
    "        self.color=color\n",
    "    def area(self):\n",
    "        return (self.base*self.altura)/2\n",
    "    def perimeter(self):\n",
    "        return self.base+self.lado1+self.lado2\n",
    "    def get_color(self):\n",
    "        return self.color"
   ]
  },
  {
   "cell_type": "code",
   "execution_count": 4,
   "metadata": {},
   "outputs": [],
   "source": [
    "import math\n",
    "class Circle(Figure):\n",
    "    def __init__(self, radio, color):\n",
    "        self.radio=radio\n",
    "        self.color=color\n",
    "    def area(self):\n",
    "        return math.pi*self.radio**2\n",
    "    def perimeter(self):\n",
    "        return 2*math.pi*self.radio\n",
    "    def get_color(self):\n",
    "        return self.color"
   ]
  },
  {
   "cell_type": "code",
   "execution_count": 5,
   "metadata": {},
   "outputs": [],
   "source": [
    "class Rectangle(Figure):\n",
    "    def __init__(self, base, altura, color):\n",
    "        self.base=base\n",
    "        self.altura=altura\n",
    "        self.color=color\n",
    "    def area(self):\n",
    "        return self.base*self.altura\n",
    "    def perimeter(self):\n",
    "        return 2*self.base+2*self.altura\n",
    "    def get_color(self):\n",
    "        return self.color"
   ]
  },
  {
   "cell_type": "code",
   "execution_count": 6,
   "metadata": {},
   "outputs": [],
   "source": [
    "class Hexagon(Figure):\n",
    "    def __init__(self, lado, apotema, color):\n",
    "        self.lado=lado\n",
    "        self.apotema=apotema\n",
    "        self.color=color\n",
    "    def area(self):\n",
    "        return (self.perimeter()*self.apotema)/2\n",
    "    def perimeter(self):\n",
    "        return self.lado*6\n",
    "    def get_color(self):\n",
    "        return self.color"
   ]
  },
  {
   "cell_type": "code",
   "execution_count": 7,
   "metadata": {},
   "outputs": [
    {
     "name": "stdout",
     "output_type": "stream",
     "text": [
      "Color: Rojo, Perimetro: 13, Area: 6.0\n",
      "Color: Verde, Perimetro: 18.84955592153876, Area: 28.274333882308138\n",
      "Color: Azul, Perimetro: 20, Area: 24\n",
      "Color: Amarillo, Perimetro: 60, Area: 150.0\n"
     ]
    }
   ],
   "source": [
    "if __name__==\"__main__\":\n",
    "    figures=[\n",
    "        Triangle(3, 4, 5, 5, \"Rojo\"),\n",
    "        Circle(3, \"Verde\"),\n",
    "        Rectangle(4, 6, \"Azul\"),\n",
    "        Hexagon(10, 5, \"Amarillo\")\n",
    "    ]\n",
    "    for figure in figures:\n",
    "        print(f\"Color: {figure.get_color()}, Perimetro: {figure.perimeter()}, Area: {figure.area()}\")"
   ]
  }
 ],
 "metadata": {
  "kernelspec": {
   "display_name": "Python 3",
   "language": "python",
   "name": "python3"
  },
  "language_info": {
   "codemirror_mode": {
    "name": "ipython",
    "version": 3
   },
   "file_extension": ".py",
   "mimetype": "text/x-python",
   "name": "python",
   "nbconvert_exporter": "python",
   "pygments_lexer": "ipython3",
   "version": "3.11.9"
  }
 },
 "nbformat": 4,
 "nbformat_minor": 2
}
