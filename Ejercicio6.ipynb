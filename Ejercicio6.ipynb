{
 "cells": [
  {
   "cell_type": "markdown",
   "metadata": {},
   "source": [
    "# **Hernández Rodríguez Jorge Eduardo - 3CV1 - Ejercicio de Laboratorio 6**"
   ]
  },
  {
   "cell_type": "code",
   "execution_count": 73,
   "metadata": {},
   "outputs": [
    {
     "name": "stdout",
     "output_type": "stream",
     "text": [
      "HEXAGONO\n",
      "Color: Rosa\n",
      "Lado: 10\n",
      "Apotema: 8.7\n",
      "Area: 261.0\n",
      "Perimetro: 60\n",
      "\n",
      "ROMBO\n",
      "Color: Naranja\n",
      "Lado: 5\n",
      "Diagonal mayor: 8\n",
      "Diagonal menor: 6\n",
      "Area: 24.0\n",
      "Perimetro: 20\n",
      "\n",
      "TRAPECIO\n",
      "Color: Blanco\n",
      "Base mayor: 7\n",
      "Base menor: 3\n",
      "Altura: 4\n",
      "Lado: 4.5\n",
      "Area: 20.0\n",
      "Perimetro: 19.0\n"
     ]
    }
   ],
   "source": [
    "class Ejercicio6:\n",
    "    h1=Hexagono(\"Rosa\", 10, 8.7)\n",
    "    print(\"HEXAGONO\")\n",
    "    print(\"Color:\", h1.get_color())\n",
    "    print(\"Lado:\", h1.get_lado())\n",
    "    print(\"Apotema:\", h1.get_apotema())\n",
    "    print(\"Area:\", h1.get_area())\n",
    "    print(\"Perimetro:\", h1.get_perimetro())\n",
    "    b1=Rombo(\"Naranja\", 5, 8, 6)\n",
    "    print(\"\\nROMBO\")\n",
    "    print(\"Color:\", b1.get_color())\n",
    "    print(\"Lado:\", b1.get_lado())\n",
    "    print(\"Diagonal mayor:\", b1.get_diag_mayor())\n",
    "    print(\"Diagonal menor:\", b1.get_diag_menor())\n",
    "    print(\"Area:\", b1.get_area())\n",
    "    print(\"Perimetro:\", b1.get_perimetro())\n",
    "    a1=Trapecio(\"Blanco\", 7, 3, 4, 4.5)\n",
    "    print(\"\\nTRAPECIO\")\n",
    "    print(\"Color:\", a1.get_color())\n",
    "    print(\"Base mayor:\", a1.get_base_mayor())\n",
    "    print(\"Base menor:\", a1.get_base_menor())\n",
    "    print(\"Altura:\", a1.get_altura())\n",
    "    print(\"Lado:\", a1.get_lado())\n",
    "    print(\"Area:\", a1.get_area())\n",
    "    print(\"Perimetro:\", a1.get_perimetro())"
   ]
  },
  {
   "cell_type": "code",
   "execution_count": 70,
   "metadata": {},
   "outputs": [],
   "source": [
    "class Hexagono:\n",
    "    def __init__(self, color, lado, apotema):\n",
    "        self.__color=color\n",
    "        self.__lado=lado\n",
    "        self.__apotema=apotema\n",
    "    def get_color(self):\n",
    "        return self.__color\n",
    "    def get_lado(self):\n",
    "        return self.__lado\n",
    "    def get_apotema(self):\n",
    "        return self.__apotema\n",
    "    def __area(self):\n",
    "        area=(self.__perimetro()*self.__apotema)/2\n",
    "        return area\n",
    "    def __perimetro(self):\n",
    "        perimetro=self.__lado*6\n",
    "        return perimetro\n",
    "    def get_area(self):\n",
    "        return self.__area()\n",
    "    def get_perimetro(self):\n",
    "        return self.__perimetro()"
   ]
  },
  {
   "cell_type": "code",
   "execution_count": 54,
   "metadata": {},
   "outputs": [],
   "source": [
    "class Rombo:\n",
    "    def __init__(self, color, lado, diag_mayor, diag_menor):\n",
    "        self.__color=color\n",
    "        self.__lado=lado\n",
    "        self.__diag_mayor=diag_mayor\n",
    "        self.__diag_menor=diag_menor\n",
    "    def get_color(self):\n",
    "        return self.__color\n",
    "    def get_lado(self):\n",
    "        return self.__lado\n",
    "    def get_diag_mayor(self):\n",
    "        return self.__diag_mayor\n",
    "    def get_diag_menor(self):\n",
    "        return self.__diag_menor\n",
    "    def __area(self):\n",
    "        area=(self.__diag_mayor*self.__diag_menor)/2\n",
    "        return area\n",
    "    def __perimetro(self):\n",
    "        perimetro=self.__lado*4\n",
    "        return perimetro\n",
    "    def get_area(self):\n",
    "        return self.__area()\n",
    "    def get_perimetro(self):\n",
    "        return self.__perimetro()"
   ]
  },
  {
   "cell_type": "code",
   "execution_count": 72,
   "metadata": {},
   "outputs": [],
   "source": [
    "class Trapecio:\n",
    "    def __init__(self, color, base_mayor, base_menor, altura, lado):\n",
    "        self.__color=color\n",
    "        self.__base_mayor=base_mayor\n",
    "        self.__base_menor=base_menor\n",
    "        self.__altura=altura\n",
    "        self.__lado=lado\n",
    "    def get_color(self):\n",
    "        return self.__color\n",
    "    def get_base_mayor(self):\n",
    "        return self.__base_mayor\n",
    "    def get_base_menor(self):\n",
    "        return self.__base_menor\n",
    "    def get_altura(self):\n",
    "        return self.__altura\n",
    "    def get_lado(self):\n",
    "        return self.__lado\n",
    "    def __area(self):\n",
    "        area=((self.__base_mayor+self.__base_menor)*self.__altura)/2\n",
    "        return area\n",
    "    def __perimetro(self):\n",
    "        perimetro=self.__base_mayor+self.__base_menor+(self.__lado*2)\n",
    "        return perimetro\n",
    "    def get_area(self):\n",
    "        return self.__area()\n",
    "    def get_perimetro(self):\n",
    "        return self.__perimetro()"
   ]
  }
 ],
 "metadata": {
  "kernelspec": {
   "display_name": "Python 3",
   "language": "python",
   "name": "python3"
  },
  "language_info": {
   "codemirror_mode": {
    "name": "ipython",
    "version": 3
   },
   "file_extension": ".py",
   "mimetype": "text/x-python",
   "name": "python",
   "nbconvert_exporter": "python",
   "pygments_lexer": "ipython3",
   "version": "3.11.9"
  }
 },
 "nbformat": 4,
 "nbformat_minor": 2
}
