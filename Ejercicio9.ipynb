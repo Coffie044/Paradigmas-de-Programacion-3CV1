{
 "cells": [
  {
   "cell_type": "markdown",
   "metadata": {},
   "source": [
    "# **Hernández Rodríguez Jorge Eduardo - 3CV1 - Ejercicio de Laboratorio 9**"
   ]
  },
  {
   "cell_type": "code",
   "execution_count": 51,
   "metadata": {},
   "outputs": [],
   "source": [
    "import random\n",
    "def generar_lista(n):\n",
    "  lista=[random.randrange(0, n) for x in range (n)]\n",
    "  return lista"
   ]
  },
  {
   "cell_type": "code",
   "execution_count": 52,
   "metadata": {},
   "outputs": [],
   "source": [
    "def merge_sort(lista):\n",
    "    if(len(lista)>1):\n",
    "        mid=len(lista)//2\n",
    "        mitad_izquierda=lista[:mid]\n",
    "        mitad_derecha=lista[mid:]\n",
    "        merge_sort(mitad_izquierda)\n",
    "        merge_sort(mitad_derecha)\n",
    "        i=j=k=0\n",
    "        while i<len(mitad_izquierda)and j<len(mitad_derecha):\n",
    "            if(mitad_izquierda[i]<mitad_derecha[j]):\n",
    "                lista[k]=mitad_izquierda[i]\n",
    "                i+=1\n",
    "            else:\n",
    "                lista[k]=mitad_derecha[j]\n",
    "                j+=1\n",
    "            k+=1\n",
    "        while(i<len(mitad_izquierda)):\n",
    "            lista[k]=mitad_izquierda[i]\n",
    "            i+=1\n",
    "            k+=1\n",
    "        while(j<len(mitad_derecha)):\n",
    "            lista[k]=mitad_derecha[j]\n",
    "            j+=1\n",
    "            k+=1\n",
    "    return lista"
   ]
  },
  {
   "cell_type": "code",
   "execution_count": 68,
   "metadata": {},
   "outputs": [],
   "source": [
    "def encontrar_magic_index(lista):\n",
    "    for i in range(len(lista)):\n",
    "        if(lista[i]==i):\n",
    "            print(f'Magic index encontrado en el indice {i}')\n",
    "            return\n",
    "    print(\"No se ha encontrado un magic index.\")"
   ]
  },
  {
   "cell_type": "code",
   "execution_count": 75,
   "metadata": {},
   "outputs": [
    {
     "name": "stdout",
     "output_type": "stream",
     "text": [
      "[2, 5, 6, 6, 6, 6, 7, 7, 8, 8]\n",
      "Magic index encontrado en el indice 7\n"
     ]
    }
   ],
   "source": [
    "lista=generar_lista(10)\n",
    "lista=merge_sort(lista)\n",
    "print(lista)\n",
    "encontrar_magic_index(lista)"
   ]
  }
 ],
 "metadata": {
  "kernelspec": {
   "display_name": "Python 3",
   "language": "python",
   "name": "python3"
  },
  "language_info": {
   "codemirror_mode": {
    "name": "ipython",
    "version": 3
   },
   "file_extension": ".py",
   "mimetype": "text/x-python",
   "name": "python",
   "nbconvert_exporter": "python",
   "pygments_lexer": "ipython3",
   "version": "3.11.9"
  }
 },
 "nbformat": 4,
 "nbformat_minor": 2
}
