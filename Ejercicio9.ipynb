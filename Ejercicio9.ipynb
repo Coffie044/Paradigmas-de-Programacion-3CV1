{
 "cells": [
  {
   "cell_type": "markdown",
   "metadata": {},
   "source": [
    "# **Hernández Rodríguez Jorge Eduardo - 3CV1 - Ejercicio de Laboratorio 9**"
   ]
  },
  {
   "cell_type": "code",
   "execution_count": 98,
   "metadata": {},
   "outputs": [],
   "source": [
    "import random\n",
    "class Robot:\n",
    "    def __init__(self, r, c):\n",
    "        self.r=r\n",
    "        self.c=c\n",
    "        self.rejilla=[[0 for _ in range(c)] for _ in range(r)]\n",
    "        self.robot=2\n",
    "        self.init_rejilla()\n",
    "    def init_rejilla(self):\n",
    "        for fila in self.rejilla:\n",
    "            fila[random.randrange(0, self.c)]=1\n",
    "        self.rejilla[self.r-1][self.c-1]=0\n",
    "        self.rejilla[0][0]=0\n",
    "        self.rejilla[0][0]=self.robot\n",
    "    def imprimir_rejilla(self):\n",
    "        for fila in self.rejilla:\n",
    "            print(fila)\n",
    "        print()\n",
    "    def mover_robot(self, i, j):\n",
    "        if(i==self.r-1 and j==self.c-1):\n",
    "            return True\n",
    "        if(j+1<self.c and self.rejilla[i][j+1]==0):\n",
    "            self.rejilla[i][j+1]=self.robot\n",
    "            if(self.mover_robot(i, j + 1)):\n",
    "                return True\n",
    "            self.rejilla[i][j+1]=0\n",
    "        if(i+1<self.r and self.rejilla[i+1][j]==0):\n",
    "            self.rejilla[i+1][j] = self.robot\n",
    "            if(self.mover_robot(i+1, j)):\n",
    "                return True\n",
    "            self.rejilla[i+1][j]=0\n",
    "        return False\n",
    "    def encontrar_ruta(self):\n",
    "        if(self.mover_robot(0, 0)):\n",
    "            print(\"El robot ha llegado a la meta.\")\n",
    "        else:\n",
    "            print(\"El robot no ha podido llegar a la meta.\")\n",
    "        self.imprimir_rejilla()"
   ]
  },
  {
   "cell_type": "code",
   "execution_count": 118,
   "metadata": {},
   "outputs": [
    {
     "name": "stdout",
     "output_type": "stream",
     "text": [
      "Rejilla inicial:\n",
      "[2, 1, 0, 0, 0]\n",
      "[0, 0, 0, 1, 0]\n",
      "[0, 1, 0, 0, 0]\n",
      "[0, 1, 0, 0, 0]\n",
      "[0, 0, 1, 0, 0]\n",
      "\n",
      "El robot ha llegado a la meta.\n",
      "[2, 1, 0, 0, 0]\n",
      "[2, 2, 2, 1, 0]\n",
      "[0, 1, 2, 2, 2]\n",
      "[0, 1, 0, 0, 2]\n",
      "[0, 0, 1, 0, 2]\n",
      "\n"
     ]
    }
   ],
   "source": [
    "r=5\n",
    "c=5\n",
    "robot=Robot(r, c)\n",
    "print(\"Rejilla inicial:\")\n",
    "robot.imprimir_rejilla()\n",
    "robot.encontrar_ruta()"
   ]
  }
 ],
 "metadata": {
  "kernelspec": {
   "display_name": "Python 3",
   "language": "python",
   "name": "python3"
  },
  "language_info": {
   "codemirror_mode": {
    "name": "ipython",
    "version": 3
   },
   "file_extension": ".py",
   "mimetype": "text/x-python",
   "name": "python",
   "nbconvert_exporter": "python",
   "pygments_lexer": "ipython3",
   "version": "3.11.9"
  }
 },
 "nbformat": 4,
 "nbformat_minor": 2
}
